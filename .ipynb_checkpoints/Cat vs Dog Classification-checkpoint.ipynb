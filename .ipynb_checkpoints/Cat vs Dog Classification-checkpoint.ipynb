{
 "cells": [
  {
   "cell_type": "code",
   "execution_count": 1,
   "id": "f729f41c",
   "metadata": {},
   "outputs": [],
   "source": [
    "import numpy as np\n",
    "import pandas as pd\n",
    "import matplotlib.pyplot as plt\n",
    "from keras.models import Sequential\n",
    "from keras.layers import Convolution2D\n",
    "from keras.layers import MaxPooling2D\n",
    "from keras.layers import Dense\n",
    "from keras.layers import Flatten"
   ]
  },
  {
   "cell_type": "code",
   "execution_count": 2,
   "id": "5ad2746f",
   "metadata": {},
   "outputs": [],
   "source": [
    "classifier=Sequential()"
   ]
  },
  {
   "cell_type": "code",
   "execution_count": 3,
   "id": "d988114d",
   "metadata": {},
   "outputs": [],
   "source": [
    "from keras.preprocessing.image import ImageDataGenerator\n",
    "train_datagen=ImageDataGenerator(rescale=1./255,\n",
    "                                shear_range=0.2,\n",
    "                                zoom_range=0.2,\n",
    "                                horizontal_flip=True)"
   ]
  },
  {
   "cell_type": "markdown",
   "id": "c0fdc570",
   "metadata": {},
   "source": [
    "batch_size is praportional to trainning time means more the batch_size more it will take time and will give more best trainning"
   ]
  },
  {
   "cell_type": "code",
   "execution_count": 4,
   "id": "3dc2c306",
   "metadata": {},
   "outputs": [
    {
     "name": "stdout",
     "output_type": "stream",
     "text": [
      "Found 8005 images belonging to 2 classes.\n",
      "Found 2023 images belonging to 2 classes.\n"
     ]
    }
   ],
   "source": [
    "test_datagen=ImageDataGenerator(rescale=1./255)\n",
    "training_set=train_datagen.flow_from_directory('C:/Users/Deepanshu/Downloads/Cat vs Dog Classification/Cat-Dog-Dataset/Dataset/train',\n",
    "                                              target_size=(64,64),batch_size=32,class_mode='binary')\n",
    "testing_set=test_datagen.flow_from_directory('C:/Users/Deepanshu/Downloads/Cat vs Dog Classification/Cat-Dog-Dataset/Dataset/test',\n",
    "                                            target_size=(64,64),batch_size=32,class_mode='binary')"
   ]
  },
  {
   "cell_type": "markdown",
   "id": "cb38fe1e",
   "metadata": {},
   "source": [
    "CNN Algorithm\n"
   ]
  },
  {
   "cell_type": "code",
   "execution_count": 5,
   "id": "a42622df",
   "metadata": {},
   "outputs": [],
   "source": [
    "# first layer\n",
    "classifier.add(Convolution2D(filters=32, kernel_size=3, activation='relu', input_shape=[64, 64, 3]))\n",
    "classifier.add(MaxPooling2D(pool_size=2, strides=2))\n",
    "\n",
    "\n",
    "# second layer\n",
    "classifier.add(Convolution2D(filters=32, kernel_size=3, activation='relu'))\n",
    "classifier.add(MaxPooling2D(pool_size=2, strides=2))\n",
    "\n",
    "\n",
    "\n",
    "\n",
    "# flatten layer\n",
    "classifier.add(Flatten())\n",
    "\n",
    "\n",
    "# dense layer\n",
    "classifier.add(Dense(units=129,activation='relu'))\n",
    "classifier.add(Dense(units=1,activation='sigmoid'))"
   ]
  },
  {
   "cell_type": "markdown",
   "id": "920472ab",
   "metadata": {},
   "source": [
    "# first layer\n",
    "kernal_size=3 means 3X3 matrix is taken , input_shape=[64, 64, 3] means size of image will be 64X64X3 , \n",
    "pool_size=2 means 2X2 Matrix is taken"
   ]
  },
  {
   "cell_type": "code",
   "execution_count": 6,
   "id": "4bea421d",
   "metadata": {},
   "outputs": [],
   "source": [
    "# compile CNN Model\n",
    "classifier.compile(optimizer='adam', loss='binary_crossentropy', metrics=['accuracy'])"
   ]
  },
  {
   "cell_type": "markdown",
   "id": "97b90561",
   "metadata": {},
   "source": [
    " optimizer='adam' means it is used to increase learning rate of model , \n",
    " metrics=['accuracy'] for calculating accuracy of model"
   ]
  },
  {
   "cell_type": "code",
   "execution_count": 7,
   "id": "75244717",
   "metadata": {},
   "outputs": [
    {
     "name": "stdout",
     "output_type": "stream",
     "text": [
      "Epoch 1/15\n",
      "251/251 [==============================] - 35s 137ms/step - loss: 0.6773 - accuracy: 0.5659 - val_loss: 0.6343 - val_accuracy: 0.6480\n",
      "Epoch 2/15\n",
      "251/251 [==============================] - 36s 143ms/step - loss: 0.6143 - accuracy: 0.6573 - val_loss: 0.5797 - val_accuracy: 0.7069\n",
      "Epoch 3/15\n",
      "251/251 [==============================] - 34s 137ms/step - loss: 0.5572 - accuracy: 0.7089 - val_loss: 0.5341 - val_accuracy: 0.7449\n",
      "Epoch 4/15\n",
      "251/251 [==============================] - 37s 146ms/step - loss: 0.5202 - accuracy: 0.7397 - val_loss: 0.4941 - val_accuracy: 0.7662\n",
      "Epoch 5/15\n",
      "251/251 [==============================] - 36s 142ms/step - loss: 0.4971 - accuracy: 0.7559 - val_loss: 0.4881 - val_accuracy: 0.7721\n",
      "Epoch 6/15\n",
      "251/251 [==============================] - 33s 133ms/step - loss: 0.4767 - accuracy: 0.7640 - val_loss: 0.4843 - val_accuracy: 0.7776\n",
      "Epoch 7/15\n",
      "251/251 [==============================] - 35s 140ms/step - loss: 0.4644 - accuracy: 0.7768 - val_loss: 0.4994 - val_accuracy: 0.7578\n",
      "Epoch 8/15\n",
      "251/251 [==============================] - 33s 133ms/step - loss: 0.4386 - accuracy: 0.7914 - val_loss: 0.4912 - val_accuracy: 0.7731\n",
      "Epoch 9/15\n",
      "251/251 [==============================] - 33s 130ms/step - loss: 0.4234 - accuracy: 0.8060 - val_loss: 0.4515 - val_accuracy: 0.7939\n",
      "Epoch 10/15\n",
      "251/251 [==============================] - 34s 133ms/step - loss: 0.4223 - accuracy: 0.8025 - val_loss: 0.4523 - val_accuracy: 0.8033\n",
      "Epoch 11/15\n",
      "251/251 [==============================] - 36s 142ms/step - loss: 0.4029 - accuracy: 0.8100 - val_loss: 0.4313 - val_accuracy: 0.7998\n",
      "Epoch 12/15\n",
      "251/251 [==============================] - 33s 133ms/step - loss: 0.3872 - accuracy: 0.8214 - val_loss: 0.4480 - val_accuracy: 0.7954\n",
      "Epoch 13/15\n",
      "251/251 [==============================] - 33s 131ms/step - loss: 0.3810 - accuracy: 0.8244 - val_loss: 0.4622 - val_accuracy: 0.7874\n",
      "Epoch 14/15\n",
      "251/251 [==============================] - 33s 131ms/step - loss: 0.3749 - accuracy: 0.8299 - val_loss: 0.4463 - val_accuracy: 0.7939\n",
      "Epoch 15/15\n",
      "251/251 [==============================] - 33s 132ms/step - loss: 0.3519 - accuracy: 0.8430 - val_loss: 0.4307 - val_accuracy: 0.8122\n"
     ]
    },
    {
     "data": {
      "text/plain": [
       "<keras.callbacks.History at 0x220617282e0>"
      ]
     },
     "execution_count": 7,
     "metadata": {},
     "output_type": "execute_result"
    }
   ],
   "source": [
    "# fitting the model\n",
    "classifier.fit(training_set,epochs=15,validation_data=testing_set)"
   ]
  },
  {
   "cell_type": "markdown",
   "id": "0a723c84",
   "metadata": {},
   "source": [
    "# Prediction part"
   ]
  },
  {
   "cell_type": "code",
   "execution_count": 10,
   "id": "c60fd0a5",
   "metadata": {},
   "outputs": [
    {
     "name": "stdout",
     "output_type": "stream",
     "text": [
      "1/1 [==============================] - 0s 21ms/step\n",
      "[[0.05203994]]\n",
      "probability = 0.9479600563645363\n",
      "prediction = cat\n"
     ]
    }
   ],
   "source": [
    "from tensorflow.keras.preprocessing import image\n",
    "predict = image.load_img('cat.jpg', target_size = (64, 64))   \n",
    "predict_modified = image.img_to_array(predict)\n",
    "predict_modified = predict_modified / 255\n",
    "predict_modified = np.expand_dims(predict_modified, axis = 0)\n",
    "result = classifier.predict(predict_modified)\n",
    "print(result)\n",
    "if result[0][0]>=0.5:\n",
    "    prediction = 'dog'\n",
    "    probability = result[0][0]\n",
    "    print (\"probability = \" + str(probability))\n",
    "    print(\"prediction = \" + prediction)\n",
    "    \n",
    "else:\n",
    "    prediction = 'cat'\n",
    "    probability = 1 - result[0][0]\n",
    "    print (\"probability = \" + str(probability))\n",
    "    print(\"prediction = \" + prediction)\n",
    "    "
   ]
  },
  {
   "cell_type": "code",
   "execution_count": null,
   "id": "3625f2fc",
   "metadata": {},
   "outputs": [],
   "source": []
  }
 ],
 "metadata": {
  "kernelspec": {
   "display_name": "Python 3 (ipykernel)",
   "language": "python",
   "name": "python3"
  },
  "language_info": {
   "codemirror_mode": {
    "name": "ipython",
    "version": 3
   },
   "file_extension": ".py",
   "mimetype": "text/x-python",
   "name": "python",
   "nbconvert_exporter": "python",
   "pygments_lexer": "ipython3",
   "version": "3.10.9"
  }
 },
 "nbformat": 4,
 "nbformat_minor": 5
}
